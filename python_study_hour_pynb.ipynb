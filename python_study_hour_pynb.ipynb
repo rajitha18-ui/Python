{
  "cells": [
    {
      "cell_type": "markdown",
      "metadata": {
        "id": "view-in-github",
        "colab_type": "text"
      },
      "source": [
        "<a href=\"https://colab.research.google.com/github/rajitha18-ui/Python/blob/main/python_study_hour_pynb.ipynb\" target=\"_parent\"><img src=\"https://colab.research.google.com/assets/colab-badge.svg\" alt=\"Open In Colab\"/></a>"
      ]
    },
    {
      "cell_type": "code",
      "execution_count": null,
      "metadata": {
        "colab": {
          "base_uri": "https://localhost:8080/"
        },
        "id": "0MorG8Oi467L",
        "outputId": "269f5882-71ab-4519-d82b-ff3ae745d2f7"
      },
      "outputs": [
        {
          "name": "stdout",
          "output_type": "stream",
          "text": [
            "13\n"
          ]
        }
      ],
      "source": [
        "x=7\n",
        "y=6\n",
        "print(x+y)"
      ]
    },
    {
      "cell_type": "markdown",
      "source": [
        "# New Section"
      ],
      "metadata": {
        "id": "Ph5FFQtkRORV"
      }
    },
    {
      "cell_type": "code",
      "source": [
        "from google.colab import drive\n",
        "drive.mount('/content/drive')"
      ],
      "metadata": {
        "id": "BHj5iwi5Rrhq"
      },
      "execution_count": null,
      "outputs": []
    },
    {
      "cell_type": "code",
      "execution_count": null,
      "metadata": {
        "colab": {
          "base_uri": "https://localhost:8080/"
        },
        "id": "Cgm81olK5QPP",
        "outputId": "78fb11b2-73d4-4b6f-cb25-211d0943ccfc"
      },
      "outputs": [
        {
          "name": "stdout",
          "output_type": "stream",
          "text": [
            "97\n"
          ]
        }
      ],
      "source": [
        "x=\"9\"\n",
        "y=\"7\"\n",
        "print(x+y)"
      ]
    },
    {
      "cell_type": "code",
      "execution_count": null,
      "metadata": {
        "colab": {
          "base_uri": "https://localhost:8080/"
        },
        "id": "qGZJuFLH5cg1",
        "outputId": "9d7f4248-ee96-4fb3-e625-b45866d08d49"
      },
      "outputs": [
        {
          "name": "stdout",
          "output_type": "stream",
          "text": [
            "7\n"
          ]
        }
      ],
      "source": [
        "x=7\n",
        "print(x)"
      ]
    },
    {
      "cell_type": "code",
      "execution_count": null,
      "metadata": {
        "colab": {
          "base_uri": "https://localhost:8080/"
        },
        "id": "YrtVVwH55vJA",
        "outputId": "90bbe805-7573-4018-f20c-0b4e9ff56c30"
      },
      "outputs": [
        {
          "name": "stdout",
          "output_type": "stream",
          "text": [
            "Hello_world\n"
          ]
        }
      ],
      "source": [
        "print(\"Hello_world\")"
      ]
    },
    {
      "cell_type": "code",
      "execution_count": null,
      "metadata": {
        "colab": {
          "base_uri": "https://localhost:8080/"
        },
        "id": "jEbojqOA58gV",
        "outputId": "957e9c85-b115-49e0-a2b5-7bf42e82f6e0"
      },
      "outputs": [
        {
          "name": "stdout",
          "output_type": "stream",
          "text": [
            "&&rajitha\n"
          ]
        }
      ],
      "source": [
        "print(\"&&rajitha\")"
      ]
    },
    {
      "cell_type": "code",
      "execution_count": null,
      "metadata": {
        "colab": {
          "base_uri": "https://localhost:8080/"
        },
        "id": "8MmmKHHk6GVM",
        "outputId": "9bc50038-05e9-42b3-fbf2-2b189c7577d5"
      },
      "outputs": [
        {
          "name": "stdout",
          "output_type": "stream",
          "text": [
            "5\n"
          ]
        }
      ],
      "source": [
        "x=5\n",
        "x=5\n",
        "print(x)"
      ]
    },
    {
      "cell_type": "code",
      "execution_count": null,
      "metadata": {
        "colab": {
          "base_uri": "https://localhost:8080/"
        },
        "id": "Mc7tDS5M6fEP",
        "outputId": "66708ae2-4690-4f5f-844c-7ca530261558"
      },
      "outputs": [
        {
          "name": "stdout",
          "output_type": "stream",
          "text": [
            "7\n",
            "rajitha\n"
          ]
        }
      ],
      "source": [
        "x=7\n",
        "y=\"rajitha\"\n",
        "print(x)\n",
        "print(y)"
      ]
    },
    {
      "cell_type": "code",
      "execution_count": null,
      "metadata": {
        "colab": {
          "base_uri": "https://localhost:8080/"
        },
        "id": "HK-O1DU867qA",
        "outputId": "4be1f825-ab9b-47e8-f1bc-ae977577e179"
      },
      "outputs": [
        {
          "name": "stdout",
          "output_type": "stream",
          "text": [
            "india\n",
            "pakisthan\n",
            "australia\n"
          ]
        }
      ],
      "source": [
        "x,y,z=\"india\",\"pakisthan\",\"australia\"\n",
        "print(x)\n",
        "print(y)\n",
        "print(z)"
      ]
    },
    {
      "cell_type": "code",
      "execution_count": null,
      "metadata": {
        "colab": {
          "base_uri": "https://localhost:8080/"
        },
        "id": "0lxZwwel7mEf",
        "outputId": "2ec9aa3a-ae11-47df-f7bf-02a7920afd44"
      },
      "outputs": [
        {
          "name": "stdout",
          "output_type": "stream",
          "text": [
            "{3, 4, 6}\n"
          ]
        }
      ],
      "source": [
        "x={3,4,6}\n",
        "print(x)"
      ]
    },
    {
      "cell_type": "code",
      "execution_count": null,
      "metadata": {
        "colab": {
          "base_uri": "https://localhost:8080/"
        },
        "id": "Sjk8QeZx8T88",
        "outputId": "98e21061-ad65-4af1-8cdc-29a378704ab1"
      },
      "outputs": [
        {
          "name": "stdout",
          "output_type": "stream",
          "text": [
            "(1, 1)\n"
          ]
        }
      ],
      "source": [
        "x=(1,1)\n",
        "print(x)"
      ]
    },
    {
      "cell_type": "code",
      "execution_count": null,
      "metadata": {
        "colab": {
          "base_uri": "https://localhost:8080/"
        },
        "id": "cjgM068aCTrC",
        "outputId": "d7c23fe5-f35d-4fc2-f09e-ae4471ead0b2"
      },
      "outputs": [
        {
          "name": "stdout",
          "output_type": "stream",
          "text": [
            "30\n"
          ]
        }
      ],
      "source": [
        "l=5\n",
        "b=6\n",
        "area =l*b\n",
        "print(area)\n"
      ]
    },
    {
      "cell_type": "code",
      "execution_count": null,
      "metadata": {
        "colab": {
          "base_uri": "https://localhost:8080/"
        },
        "id": "VPMKqkMjDr8H",
        "outputId": "a640030a-6c56-4598-94b5-218a18c549ec"
      },
      "outputs": [
        {
          "name": "stdout",
          "output_type": "stream",
          "text": [
            "eligible for vote True\n",
            "not eligible for vote True\n"
          ]
        }
      ],
      "source": [
        "a=25\n",
        "b=True\n",
        "print(\"eligible for vote\",a>=25)\n",
        "print(\"not eligible for vote\",a<=25)"
      ]
    },
    {
      "cell_type": "code",
      "execution_count": null,
      "metadata": {
        "colab": {
          "base_uri": "https://localhost:8080/"
        },
        "id": "Xi77X39eHLIg",
        "outputId": "bcabd6a5-b925-4314-d8e0-3e704bed686b"
      },
      "outputs": [
        {
          "name": "stdout",
          "output_type": "stream",
          "text": [
            "eligible for vote False\n",
            "eligible for vote True\n"
          ]
        }
      ],
      "source": [
        "a=15\n",
        "b=True\n",
        "print(\"eligible for vote\",a>=16)\n",
        "print(\"eligible for vote\",a<=16)\n"
      ]
    },
    {
      "cell_type": "code",
      "execution_count": null,
      "metadata": {
        "colab": {
          "base_uri": "https://localhost:8080/"
        },
        "id": "0RYfsZtcIbFn",
        "outputId": "3d7c29cb-c8c8-4314-c4a0-caeeb3b819fc"
      },
      "outputs": [
        {
          "name": "stdout",
          "output_type": "stream",
          "text": [
            "56\n",
            "even True\n",
            "odd False\n"
          ]
        }
      ],
      "source": [
        "a=int(input())\n",
        "print(\"even\",a%2==0)\n",
        "print(\"odd\",a%2!=0)"
      ]
    },
    {
      "cell_type": "code",
      "execution_count": null,
      "metadata": {
        "colab": {
          "base_uri": "https://localhost:8080/"
        },
        "id": "mVmiX6ZyIaIw",
        "outputId": "4e68554b-44fd-408a-d994-0eb7ac430f38"
      },
      "outputs": [
        {
          "name": "stdout",
          "output_type": "stream",
          "text": [
            "enter the value18\n",
            "the number is even\n"
          ]
        }
      ],
      "source": [
        "a=int(input(\"enter the value\"))\n",
        "result=[\"even\",\"odd\"][a%2]\n",
        "print(\"the number is\",result)"
      ]
    },
    {
      "cell_type": "code",
      "execution_count": null,
      "metadata": {
        "colab": {
          "base_uri": "https://localhost:8080/"
        },
        "id": "Xo2jkupoDkHR",
        "outputId": "82aa0d2a-72b6-4253-a848-5b653f6e2afd"
      },
      "outputs": [
        {
          "name": "stdout",
          "output_type": "stream",
          "text": [
            "enter the value29\n",
            "the number is,result\n"
          ]
        }
      ],
      "source": [
        "a=int(input(\"enter the value\"))\n",
        "result=[\"even\",\"odd\"][a%2]\n",
        "print(\"the number is,result\")"
      ]
    },
    {
      "cell_type": "code",
      "execution_count": null,
      "metadata": {
        "colab": {
          "base_uri": "https://localhost:8080/"
        },
        "id": "7n8Y2qQTLVeF",
        "outputId": "53c6ddbb-d914-49e5-84e8-1aaafbdd18dc"
      },
      "outputs": [
        {
          "name": "stdout",
          "output_type": "stream",
          "text": [
            "enter first number:6\n",
            "enter second number:6\n",
            "rajitha and poojitha\n"
          ]
        }
      ],
      "source": [
        "a=int(input(\"enter first number:\"))\n",
        "b=int(input(\"enter second number:\"))\n",
        "\n",
        "name1=(a>0)and(b%2==0)\n",
        "name2=(a<0)and(b%2!=0)\n",
        "print(name1 and \"rajitha and poojitha\" or name2 and \"rajitha\"or\"poojitha\")"
      ]
    },
    {
      "cell_type": "code",
      "execution_count": null,
      "metadata": {
        "colab": {
          "base_uri": "https://localhost:8080/"
        },
        "id": "Hte4vzoRuKCi",
        "outputId": "c6223f43-7433-4b40-a9d9-e3c0c99e1ed2"
      },
      "outputs": [
        {
          "name": "stdout",
          "output_type": "stream",
          "text": [
            "simple calculator:\n",
            "enter first num:5\n",
            "enter second num:6\n",
            "enter your choice:7\n",
            "invalid choice\n"
          ]
        }
      ],
      "source": [
        "print(\"simple calculator:\")\n",
        "a=float(input(\"enter first num:\"))\n",
        "b=float(input(\"enter second num:\"))\n",
        "choice=int(input(\"enter your choice:\"))\n",
        "if(choice==1):\n",
        "   print(\"result:\",a+b)\n",
        "elif(choice==2):\n",
        "   print(\"result:\",a-b)\n",
        "elif(choice==3) :\n",
        "   print(\"result:\",a*b)\n",
        "elif(choice==4):\n",
        "   if(b!=0):\n",
        "     print(\"result:\",a/b)\n",
        "   else:\n",
        "     print(\"division not possible\")\n",
        "else:\n",
        "     print(\"invalid choice\")\n"
      ]
    },
    {
      "cell_type": "code",
      "execution_count": null,
      "metadata": {
        "colab": {
          "base_uri": "https://localhost:8080/"
        },
        "id": "9sXBCehxB-Q0",
        "outputId": "973b9721-6ac4-492b-c414-5ed06f3ec81c"
      },
      "outputs": [
        {
          "name": "stdout",
          "output_type": "stream",
          "text": [
            "Enter a number:5\n",
            "true\n"
          ]
        }
      ],
      "source": [
        "a=int(input(\"Enter a number:\"))\n",
        "if(a<10):\n",
        "  print(\"true\")\n",
        "else:\n",
        "  print(\"false\")"
      ]
    },
    {
      "cell_type": "code",
      "execution_count": null,
      "metadata": {
        "colab": {
          "base_uri": "https://localhost:8080/"
        },
        "id": "hlujMLFsC5ER",
        "outputId": "1508d857-14ad-4e00-a3dc-08fd6fe8cd7e"
      },
      "outputs": [
        {
          "name": "stdout",
          "output_type": "stream",
          "text": [
            "pink\n",
            "not found\n"
          ]
        }
      ],
      "source": [
        "a=input()\n",
        "if(a==\"green\"):\n",
        "  print(\"found\")\n",
        "else:\n",
        " print(\"not found\")"
      ]
    },
    {
      "cell_type": "code",
      "execution_count": null,
      "metadata": {
        "colab": {
          "base_uri": "https://localhost:8080/"
        },
        "id": "Mpyfgxg7FBWS",
        "outputId": "9bb02761-be4d-489d-ea92-f4f310e07a14"
      },
      "outputs": [
        {
          "name": "stdout",
          "output_type": "stream",
          "text": [
            "30\n",
            "rajitha\n"
          ]
        }
      ],
      "source": [
        "a=int(input())\n",
        "if(a>10):\n",
        " print(\"rajitha\")\n",
        "elif(a==10):\n",
        "  print(\"poojitha\")\n",
        "else:\n",
        "  print(\"raji\")\n"
      ]
    },
    {
      "cell_type": "code",
      "execution_count": null,
      "metadata": {
        "colab": {
          "base_uri": "https://localhost:8080/"
        },
        "id": "1OPycZy0IwzZ",
        "outputId": "ec7451ed-7522-46c8-9228-ef0d07ded887"
      },
      "outputs": [
        {
          "name": "stdout",
          "output_type": "stream",
          "text": [
            "entere a number:56\n",
            "use mobile\n"
          ]
        }
      ],
      "source": [
        "a=int(input(\"entere a number:\"))\n",
        "if(a<20):\n",
        "  print(\"keeping mobile charging\")\n",
        "elif(a<50):\n",
        "  print(\"use mobile less\")\n",
        "else:\n",
        "  print(\"use mobile\")"
      ]
    },
    {
      "cell_type": "code",
      "execution_count": null,
      "metadata": {
        "colab": {
          "base_uri": "https://localhost:8080/"
        },
        "id": "wRK3wiIXMJjE",
        "outputId": "3a8a5293-2587-4583-c0e9-bf4b00af07f7"
      },
      "outputs": [
        {
          "name": "stdout",
          "output_type": "stream",
          "text": [
            "2\n",
            "4\n",
            "6\n",
            "8\n",
            "10\n"
          ]
        }
      ],
      "source": [
        "for i in range(2,11,2):\n",
        " print(i)"
      ]
    },
    {
      "cell_type": "code",
      "execution_count": null,
      "metadata": {
        "colab": {
          "base_uri": "https://localhost:8080/"
        },
        "id": "1w-Qg_pYMKvB",
        "outputId": "3a0b7569-3420-4f6a-e154-bf786ae9b6c2"
      },
      "outputs": [
        {
          "name": "stdout",
          "output_type": "stream",
          "text": [
            "1\n",
            "3\n",
            "5\n",
            "7\n",
            "9\n"
          ]
        }
      ],
      "source": [
        "for i in range(1,10,2):\n",
        "  print(i)"
      ]
    },
    {
      "cell_type": "markdown",
      "metadata": {
        "id": "zxHue0KUKW8I"
      },
      "source": []
    },
    {
      "cell_type": "code",
      "execution_count": null,
      "metadata": {
        "colab": {
          "base_uri": "https://localhost:8080/"
        },
        "id": "3C-1VyKer0zN",
        "outputId": "f9714917-f935-4ebd-bf5b-8280d159b287"
      },
      "outputs": [
        {
          "name": "stdout",
          "output_type": "stream",
          "text": [
            "apple\n",
            "banana\n",
            "cherry\n"
          ]
        }
      ],
      "source": [
        "fruit=[\"apple\",\"banana\",\"cherry\"]\n",
        "for x in fruit:\n",
        " print(x)"
      ]
    },
    {
      "cell_type": "code",
      "execution_count": null,
      "metadata": {
        "colab": {
          "base_uri": "https://localhost:8080/"
        },
        "id": "Y_KEPniTscvT",
        "outputId": "32284b4a-c134-4c85-fba7-a684f5f134b8"
      },
      "outputs": [
        {
          "name": "stdout",
          "output_type": "stream",
          "text": [
            "o\n",
            "r\n",
            "a\n",
            "n\n",
            "g\n",
            "e\n"
          ]
        }
      ],
      "source": [
        "for x in \"orange\":\n",
        " print(x)"
      ]
    },
    {
      "cell_type": "code",
      "execution_count": null,
      "metadata": {
        "colab": {
          "base_uri": "https://localhost:8080/"
        },
        "id": "cIBrR-YwsvpM",
        "outputId": "4ea5100a-9461-4e6c-e454-0a89139c9d7c"
      },
      "outputs": [
        {
          "name": "stdout",
          "output_type": "stream",
          "text": [
            "* * * * * \n",
            "* * * * * \n",
            "* * * * * \n",
            "* * * * * \n",
            "* * * * * \n",
            "* * * * * \n",
            "* * * * * \n",
            "* * * * * \n",
            "* * * * * \n",
            "* * * * * \n"
          ]
        }
      ],
      "source": [
        "for x in range (1,6):\n",
        "  for y in range(1,6):\n",
        "    print(\"*\",end=\" \")\n",
        "  print()"
      ]
    },
    {
      "cell_type": "code",
      "execution_count": null,
      "metadata": {
        "colab": {
          "base_uri": "https://localhost:8080/"
        },
        "id": "TL1wJ4pytkOu",
        "outputId": "5f936f49-bb3b-4c8b-b539-b51034300871"
      },
      "outputs": [
        {
          "name": "stdout",
          "output_type": "stream",
          "text": [
            "1 2 3 4 5 \n",
            "1 2 3 4 5 \n",
            "1 2 3 4 5 \n",
            "1 2 3 4 5 \n",
            "1 2 3 4 5 \n"
          ]
        }
      ],
      "source": [
        "for x in range(1,6):\n",
        " for y in range(1,6):\n",
        "  print(y,end=\" \")\n",
        " print()"
      ]
    },
    {
      "cell_type": "code",
      "execution_count": null,
      "metadata": {
        "colab": {
          "base_uri": "https://localhost:8080/"
        },
        "id": "c0KY8cetuO4q",
        "outputId": "02a07552-d36b-4d38-f642-7ebb1e573fab"
      },
      "outputs": [
        {
          "name": "stdout",
          "output_type": "stream",
          "text": [
            "1 1 1 1 1 \n",
            "2 2 2 2 2 \n",
            "3 3 3 3 3 \n",
            "4 4 4 4 4 \n",
            "5 5 5 5 5 \n"
          ]
        }
      ],
      "source": [
        "for x in range(1,6):\n",
        "  for y in range(1,6):\n",
        "    print(x,end=\" \")\n",
        "  print()"
      ]
    },
    {
      "cell_type": "code",
      "execution_count": null,
      "metadata": {
        "colab": {
          "base_uri": "https://localhost:8080/"
        },
        "id": "15LqV4UyIvhE",
        "outputId": "28aed790-6533-4825-c990-b9a5a9f8395a"
      },
      "outputs": [
        {
          "name": "stdout",
          "output_type": "stream",
          "text": [
            "5\n",
            "# # # # # \n",
            "# # # # # \n",
            "# # # # # \n",
            "# # # # # \n",
            "# # # # # \n"
          ]
        }
      ],
      "source": [
        "n=int(input())\n",
        "for i in range(n):\n",
        "  for j in range(n):\n",
        "   print(\"#\",end=\" \")\n",
        "  print()\n"
      ]
    },
    {
      "cell_type": "code",
      "execution_count": null,
      "metadata": {
        "colab": {
          "base_uri": "https://localhost:8080/"
        },
        "id": "9T5_P3O3r-11",
        "outputId": "f9d80752-570b-4f0d-c1b7-9d40fe7a957b"
      },
      "outputs": [
        {
          "name": "stdout",
          "output_type": "stream",
          "text": [
            "* \n",
            "* * \n",
            "* * * \n",
            "* * * * \n"
          ]
        }
      ],
      "source": [
        "for i in range(1,5):\n",
        "  for j in range(i):\n",
        "    print(\"*\",end=\" \")\n",
        "  print()"
      ]
    },
    {
      "cell_type": "code",
      "execution_count": null,
      "metadata": {
        "colab": {
          "base_uri": "https://localhost:8080/"
        },
        "id": "sAVtSriKsZLA",
        "outputId": "2ebfd5ca-147b-4f36-d7c3-3428801a7940"
      },
      "outputs": [
        {
          "name": "stdout",
          "output_type": "stream",
          "text": [
            "* * * * \n",
            "* * * \n",
            "* * \n",
            "* \n"
          ]
        }
      ],
      "source": [
        "for i in range(4,0,-1):\n",
        "  for j in range(i):\n",
        "    print(\"*\",end=\" \")\n",
        "  print()"
      ]
    },
    {
      "cell_type": "code",
      "execution_count": null,
      "metadata": {
        "colab": {
          "base_uri": "https://localhost:8080/"
        },
        "id": "vbNxvMbdssY3",
        "outputId": "a88550e6-eac3-42f7-f3cd-997aba84f9d8"
      },
      "outputs": [
        {
          "name": "stdout",
          "output_type": "stream",
          "text": [
            "# # # # \n",
            "# # # # \n",
            "# # # # \n"
          ]
        }
      ],
      "source": [
        "for i in range(3):\n",
        "  for j in range(4):\n",
        "    print(\"#\",end=\" \")\n",
        "  print()"
      ]
    },
    {
      "cell_type": "code",
      "execution_count": null,
      "metadata": {
        "colab": {
          "base_uri": "https://localhost:8080/"
        },
        "id": "alVEkB5Qs9-r",
        "outputId": "09396fb8-dd96-4500-af2c-de0cbc4535c9"
      },
      "outputs": [
        {
          "name": "stdout",
          "output_type": "stream",
          "text": [
            "1 \n",
            "1 2 \n",
            "1 2 3 \n",
            "1 2 3 4 \n"
          ]
        }
      ],
      "source": [
        "for i in range(1, 5):\n",
        "  for j in range(1,i+1):\n",
        "    print(j,end=\" \")\n",
        "  print()"
      ]
    },
    {
      "cell_type": "code",
      "execution_count": null,
      "metadata": {
        "colab": {
          "base_uri": "https://localhost:8080/"
        },
        "id": "xLK428eptWyM",
        "outputId": "0e793755-dd95-46c3-bc0b-61df992fb8c3"
      },
      "outputs": [
        {
          "name": "stdout",
          "output_type": "stream",
          "text": [
            "A \n",
            "A B \n",
            "A B C \n",
            "A B C D \n"
          ]
        }
      ],
      "source": [
        "for i in range(65,69):\n",
        "  for j in range(65,i+1):\n",
        "    print(chr(j),end=\" \")\n",
        "  print()"
      ]
    },
    {
      "cell_type": "code",
      "execution_count": null,
      "metadata": {
        "colab": {
          "base_uri": "https://localhost:8080/"
        },
        "id": "SxSkHLKSTiJL",
        "outputId": "e9fb41cf-f66a-4951-bc9d-e5c8f8b83c6f"
      },
      "outputs": [
        {
          "name": "stdout",
          "output_type": "stream",
          "text": [
            "65 \n",
            "65 66 \n",
            "65 66 67 \n",
            "65 66 67 68 \n"
          ]
        }
      ],
      "source": [
        "for i in range(65,69):\n",
        "  for j in range(65,i+1):\n",
        "    print(j,end=\" \")\n",
        "  print()"
      ]
    },
    {
      "cell_type": "code",
      "execution_count": null,
      "metadata": {
        "colab": {
          "base_uri": "https://localhost:8080/"
        },
        "id": "-VW7oANHUQw_",
        "outputId": "15d2b43d-0362-4cee-f051-0fa4c8a82af6"
      },
      "outputs": [
        {
          "name": "stdout",
          "output_type": "stream",
          "text": [
            "A \n",
            "B B \n",
            "C C C \n",
            "D D D D \n"
          ]
        }
      ],
      "source": [
        "for i in range(65,69):\n",
        "  for j in range(65,i+1):\n",
        "    print(chr(i),end=\" \")\n",
        "  print()"
      ]
    },
    {
      "cell_type": "code",
      "execution_count": null,
      "metadata": {
        "colab": {
          "base_uri": "https://localhost:8080/"
        },
        "id": "hhOWQz9Hf8ek",
        "outputId": "1477e1b5-c218-427e-fabe-8a327b3621b0"
      },
      "outputs": [
        {
          "name": "stdout",
          "output_type": "stream",
          "text": [
            "1\n",
            "2\n",
            "3\n",
            "4\n"
          ]
        }
      ],
      "source": [
        "i=1\n",
        "while(i<5):\n",
        " print(i)\n",
        " i+=1"
      ]
    },
    {
      "cell_type": "code",
      "execution_count": null,
      "metadata": {
        "colab": {
          "base_uri": "https://localhost:8080/"
        },
        "id": "kiv5lZVehme0",
        "outputId": "81ebbc21-c5ac-4da6-d40f-f2c519a81ce0"
      },
      "outputs": [
        {
          "name": "stdout",
          "output_type": "stream",
          "text": [
            "0\n",
            "1\n",
            "2\n",
            "3\n"
          ]
        }
      ],
      "source": [
        "for i in range(5):\n",
        "  if i==4:\n",
        "    continue\n",
        "  print(i)"
      ]
    },
    {
      "cell_type": "code",
      "execution_count": null,
      "metadata": {
        "colab": {
          "base_uri": "https://localhost:8080/"
        },
        "id": "yW8Y5tYxkT0b",
        "outputId": "0c565a99-e1f0-44f8-f974-c56d722ba660"
      },
      "outputs": [
        {
          "name": "stdout",
          "output_type": "stream",
          "text": [
            "0\n",
            "1\n",
            "2\n",
            "3\n"
          ]
        }
      ],
      "source": [
        "for i in range(6):\n",
        "  if(i==4):\n",
        "   break\n",
        "  print(i)"
      ]
    },
    {
      "cell_type": "code",
      "execution_count": null,
      "metadata": {
        "colab": {
          "base_uri": "https://localhost:8080/"
        },
        "id": "RBNFObHqlzsi",
        "outputId": "05a99e4e-19be-4d5a-dbda-2a01a0cb0479"
      },
      "outputs": [
        {
          "name": "stdout",
          "output_type": "stream",
          "text": [
            " c is largest number\n"
          ]
        }
      ],
      "source": [
        "a=10\n",
        "b=5\n",
        "c=7\n",
        "if(a>b & a>c):\n",
        "    print(\" a is largest number\")\n",
        "elif(b>a & b>c):\n",
        "    print (\"b is largest number\")\n",
        "else:\n",
        "    print (\" c is largest number\")"
      ]
    },
    {
      "cell_type": "code",
      "execution_count": null,
      "metadata": {
        "colab": {
          "base_uri": "https://localhost:8080/"
        },
        "id": "CjNzBNGDfKUf",
        "outputId": "72c6ecd9-0f9b-48d4-ac91-d2d8ffad9b7b"
      },
      "outputs": [
        {
          "name": "stdout",
          "output_type": "stream",
          "text": [
            "0\n",
            "1\n",
            "2\n",
            "3\n",
            "4\n",
            "5\n"
          ]
        }
      ],
      "source": [
        "for i in range (7):\n",
        " if(i==6):\n",
        "  break\n",
        " print(i)"
      ]
    },
    {
      "cell_type": "code",
      "execution_count": null,
      "metadata": {
        "id": "fAf1ez3AuooV"
      },
      "outputs": [],
      "source": [
        "rajitha,poojitha,parvathi,dasu"
      ]
    },
    {
      "cell_type": "code",
      "execution_count": null,
      "metadata": {
        "colab": {
          "base_uri": "https://localhost:8080/"
        },
        "id": "wPUicj3lj6ey",
        "outputId": "9811ed5b-2cbe-4231-c179-430520f824c4"
      },
      "outputs": [
        {
          "output_type": "stream",
          "name": "stdout",
          "text": [
            "2,3,5,7,"
          ]
        }
      ],
      "source": [
        "\n",
        "for i in range(2, 10):\n",
        "    for j in range(2, i):\n",
        "        if i % j == 0:\n",
        "            break\n",
        "    else:\n",
        "        print(i, end=\",\")"
      ]
    },
    {
      "cell_type": "code",
      "source": [
        "a=int(input())\n",
        "print(a,type(a))"
      ],
      "metadata": {
        "colab": {
          "base_uri": "https://localhost:8080/"
        },
        "id": "65EEuBpuTA_U",
        "outputId": "ce02db71-abde-4355-8992-31bd2103eddd"
      },
      "execution_count": null,
      "outputs": [
        {
          "output_type": "stream",
          "name": "stdout",
          "text": [
            "6\n",
            "6 <class 'int'>\n"
          ]
        }
      ]
    },
    {
      "cell_type": "code",
      "source": [
        "a=9.8\n",
        "b=7\n",
        "print(a+b,type(a+b))"
      ],
      "metadata": {
        "colab": {
          "base_uri": "https://localhost:8080/"
        },
        "id": "d65veBEWTR7p",
        "outputId": "52a3232e-adce-49dd-8b56-799d810ca1fc"
      },
      "execution_count": null,
      "outputs": [
        {
          "output_type": "stream",
          "name": "stdout",
          "text": [
            "16.8 <class 'float'>\n"
          ]
        }
      ]
    },
    {
      "cell_type": "code",
      "source": [
        "a=5+8j\n",
        "b=7.9\n",
        "print(a+b,type(a+b))"
      ],
      "metadata": {
        "colab": {
          "base_uri": "https://localhost:8080/"
        },
        "id": "IF_nF62WTeWU",
        "outputId": "0e6a50ef-1990-45f5-bc41-b92a1cf617a1"
      },
      "execution_count": null,
      "outputs": [
        {
          "output_type": "stream",
          "name": "stdout",
          "text": [
            "(12.9+8j) <class 'complex'>\n"
          ]
        }
      ]
    },
    {
      "cell_type": "code",
      "source": [
        "a=True\n",
        "print(a,type(a))"
      ],
      "metadata": {
        "colab": {
          "base_uri": "https://localhost:8080/"
        },
        "id": "DvV5RXm9TyiH",
        "outputId": "958e9292-6082-432d-c46a-ffc3ed97aa9a"
      },
      "execution_count": null,
      "outputs": [
        {
          "output_type": "stream",
          "name": "stdout",
          "text": [
            "True <class 'bool'>\n"
          ]
        }
      ]
    },
    {
      "cell_type": "code",
      "source": [
        "a=\"rajitha\"\n",
        "print(a,type(a))"
      ],
      "metadata": {
        "colab": {
          "base_uri": "https://localhost:8080/"
        },
        "id": "zQiO891aUAWU",
        "outputId": "1334af37-1128-4353-ee25-bb586924986a"
      },
      "execution_count": null,
      "outputs": [
        {
          "output_type": "stream",
          "name": "stdout",
          "text": [
            "rajitha <class 'str'>\n"
          ]
        }
      ]
    },
    {
      "cell_type": "code",
      "source": [
        "a=[\"rajitha\",\"poojitha\",\"parvathi\"]\n",
        "print(a,type(a))"
      ],
      "metadata": {
        "colab": {
          "base_uri": "https://localhost:8080/"
        },
        "id": "FD6NgU_vUK50",
        "outputId": "6cbff55b-964f-459c-9e17-f2308d1d5cc1"
      },
      "execution_count": null,
      "outputs": [
        {
          "output_type": "stream",
          "name": "stdout",
          "text": [
            "['rajitha', 'poojitha', 'parvathi'] <class 'list'>\n"
          ]
        }
      ]
    },
    {
      "cell_type": "code",
      "source": [
        "a=(\"bicycle\",\"bike\",\"car\")\n",
        "print(a,type(a))"
      ],
      "metadata": {
        "colab": {
          "base_uri": "https://localhost:8080/"
        },
        "id": "bqFL3n8NUgZN",
        "outputId": "f9c975bc-0911-4846-b38a-df097ee2ecd6"
      },
      "execution_count": null,
      "outputs": [
        {
          "output_type": "stream",
          "name": "stdout",
          "text": [
            "('bicycle', 'bike', 'car') <class 'tuple'>\n"
          ]
        }
      ]
    },
    {
      "cell_type": "code",
      "source": [
        "x=(1,2,3,4,5,6,7,8,9)\n",
        "print(min(x))\n",
        "print(max(x))\n",
        "print(type(x))"
      ],
      "metadata": {
        "colab": {
          "base_uri": "https://localhost:8080/"
        },
        "id": "im8TLRkTF-HL",
        "outputId": "f2b97109-d673-4ef2-fafd-c15193f1b809"
      },
      "execution_count": null,
      "outputs": [
        {
          "output_type": "stream",
          "name": "stdout",
          "text": [
            "1\n",
            "9\n",
            "<class 'tuple'>\n"
          ]
        }
      ]
    }
  ],
  "metadata": {
    "colab": {
      "provenance": [],
      "toc_visible": true,
      "authorship_tag": "ABX9TyMHoIiPOyRDIkTasO3sJPq4",
      "include_colab_link": true
    },
    "kernelspec": {
      "display_name": "Python 3",
      "name": "python3"
    },
    "language_info": {
      "name": "python"
    }
  },
  "nbformat": 4,
  "nbformat_minor": 0
}