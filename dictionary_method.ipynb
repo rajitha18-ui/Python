{
  "nbformat": 4,
  "nbformat_minor": 0,
  "metadata": {
    "colab": {
      "provenance": [],
      "authorship_tag": "ABX9TyMAFUivQZMLkHwRRrSs71XZ",
      "include_colab_link": true
    },
    "kernelspec": {
      "name": "python3",
      "display_name": "Python 3"
    },
    "language_info": {
      "name": "python"
    }
  },
  "cells": [
    {
      "cell_type": "markdown",
      "metadata": {
        "id": "view-in-github",
        "colab_type": "text"
      },
      "source": [
        "<a href=\"https://colab.research.google.com/github/rajitha18-ui/Python/blob/main/dictionary_method.ipynb\" target=\"_parent\"><img src=\"https://colab.research.google.com/assets/colab-badge.svg\" alt=\"Open In Colab\"/></a>"
      ]
    },
    {
      "cell_type": "code",
      "source": [
        "car={\"brand\":\"ford\",\"model\":\"mustang\",\"year\":\"1964\"}\n",
        "x=car.clear()\n",
        "print(car)"
      ],
      "metadata": {
        "colab": {
          "base_uri": "https://localhost:8080/"
        },
        "id": "YfmKOvIsqT10",
        "outputId": "5f1339c3-3038-4580-eb82-9c20d89c38ce"
      },
      "execution_count": null,
      "outputs": [
        {
          "output_type": "stream",
          "name": "stdout",
          "text": [
            "{}\n"
          ]
        }
      ]
    },
    {
      "cell_type": "code",
      "execution_count": null,
      "metadata": {
        "colab": {
          "base_uri": "https://localhost:8080/"
        },
        "id": "KHaYPdC0qApN",
        "outputId": "973a888e-cc69-485b-a2c5-b94537094b54"
      },
      "outputs": [
        {
          "output_type": "stream",
          "name": "stdout",
          "text": [
            "{'brand': 'ford', 'model': 'mustang', 'year': '1964'}\n"
          ]
        }
      ],
      "source": [
        "car={\"brand\":\"ford\",\"model\":\"mustang\",\"year\":\"1964\"}\n",
        "x=car.copy()\n",
        "print(car)"
      ]
    },
    {
      "cell_type": "code",
      "source": [
        "x=('key 1','key 2','key 3')\n",
        "y=0\n",
        "thisdict=dict.fromkeys(x,y)\n",
        "print(thisdict)"
      ],
      "metadata": {
        "colab": {
          "base_uri": "https://localhost:8080/"
        },
        "id": "mo5eT4nPrOze",
        "outputId": "199a7d9f-e0dc-4a22-8f4d-e5640dbdf98e"
      },
      "execution_count": null,
      "outputs": [
        {
          "output_type": "stream",
          "name": "stdout",
          "text": [
            "{'key 1': 0, 'key 2': 0, 'key 3': 0}\n"
          ]
        }
      ]
    },
    {
      "cell_type": "code",
      "source": [
        "car={\"brand\":\"ford\",\"model\":\"mustang\",\"year\":\"1964\"}\n",
        "x=car.get(\"model\")\n",
        "print(x)"
      ],
      "metadata": {
        "colab": {
          "base_uri": "https://localhost:8080/"
        },
        "id": "p4MRPjawrr3M",
        "outputId": "e8c454b9-7c1c-4517-c894-0b9b0f4e3c89"
      },
      "execution_count": null,
      "outputs": [
        {
          "output_type": "stream",
          "name": "stdout",
          "text": [
            "mustang\n"
          ]
        }
      ]
    },
    {
      "cell_type": "code",
      "source": [
        "car={\"brand\":\"ford\",\"model\":\"mustang\",\"year\":\"1964\"}\n",
        "x=car.items()\n",
        "print(car)"
      ],
      "metadata": {
        "colab": {
          "base_uri": "https://localhost:8080/"
        },
        "id": "IsAsiTf2sUYI",
        "outputId": "236f44e6-0672-4876-dee7-5e2692aa4167"
      },
      "execution_count": null,
      "outputs": [
        {
          "output_type": "stream",
          "name": "stdout",
          "text": [
            "{'brand': 'ford', 'model': 'mustang', 'year': '1964'}\n"
          ]
        }
      ]
    },
    {
      "cell_type": "code",
      "source": [
        "car={\"brand\":\"ford\",\"model\":\"mustang\",\"year\":1964}\n",
        "x=car.keys()\n",
        "print(x)"
      ],
      "metadata": {
        "colab": {
          "base_uri": "https://localhost:8080/"
        },
        "id": "iuHd_mfGtpIp",
        "outputId": "96c3ea66-67a4-4195-bc2b-2b36f3231452"
      },
      "execution_count": null,
      "outputs": [
        {
          "output_type": "stream",
          "name": "stdout",
          "text": [
            "dict_keys(['brand', 'model', 'year'])\n"
          ]
        }
      ]
    },
    {
      "cell_type": "code",
      "source": [
        "car={\"brand\":\"ford\",\"model\":\"mustang\",\"year\":\"1964\"}\n",
        "x=car.pop(\"model\")\n",
        "print(x)"
      ],
      "metadata": {
        "colab": {
          "base_uri": "https://localhost:8080/"
        },
        "id": "gaI45942ujHS",
        "outputId": "301c0bea-6c1b-43cc-919e-92c0ee03f901"
      },
      "execution_count": null,
      "outputs": [
        {
          "output_type": "stream",
          "name": "stdout",
          "text": [
            "mustang\n"
          ]
        }
      ]
    },
    {
      "cell_type": "code",
      "source": [
        "car={\"brand\":\"ford\",\"model\":\"mustang\",\"year\":1964}\n",
        "x=car.popitem()\n",
        "print(x)"
      ],
      "metadata": {
        "colab": {
          "base_uri": "https://localhost:8080/"
        },
        "id": "wc0PkswTvelS",
        "outputId": "a2fc682c-c673-4c65-aa08-df012cff41a0"
      },
      "execution_count": null,
      "outputs": [
        {
          "output_type": "stream",
          "name": "stdout",
          "text": [
            "('year', 1964)\n"
          ]
        }
      ]
    },
    {
      "cell_type": "code",
      "source": [
        "car={\"brand\":\"ford\",\"model\":\"mustang\",\"year\":\"1964\"}\n",
        "x=car.setdefault(\"model\",\"bronco\")\n",
        "print(x)"
      ],
      "metadata": {
        "colab": {
          "base_uri": "https://localhost:8080/"
        },
        "id": "pQuq0zvKwQKb",
        "outputId": "fa7a1025-a3cf-499e-93e8-d0d610550b89"
      },
      "execution_count": 1,
      "outputs": [
        {
          "output_type": "stream",
          "name": "stdout",
          "text": [
            "mustang\n"
          ]
        }
      ]
    },
    {
      "cell_type": "code",
      "source": [
        "car={\"brand\":\"ford\",\"model\"}"
      ],
      "metadata": {
        "id": "g-kUup3zxQ_r"
      },
      "execution_count": null,
      "outputs": []
    }
  ]
}